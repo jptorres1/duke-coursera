{
  "cells": [
    {
      "cell_type": "markdown",
      "metadata": {
        "id": "view-in-github",
        "colab_type": "text"
      },
      "source": [
        "<a href=\"https://colab.research.google.com/github/jptorres1/duke-coursera/blob/main/Colab_Task_1.ipynb\" target=\"_parent\"><img src=\"https://colab.research.google.com/assets/colab-badge.svg\" alt=\"Open In Colab\"/></a>"
      ]
    },
    {
      "cell_type": "markdown",
      "id": "acoustic-kentucky",
      "metadata": {
        "id": "acoustic-kentucky"
      },
      "source": [
        "# Cloud Computing - Task 1"
      ]
    },
    {
      "cell_type": "markdown",
      "id": "excessive-lincoln",
      "metadata": {
        "id": "excessive-lincoln"
      },
      "source": [
        "## Hello world"
      ]
    },
    {
      "cell_type": "code",
      "execution_count": null,
      "id": "catholic-cleaners",
      "metadata": {
        "id": "catholic-cleaners",
        "outputId": "5d506147-a7b5-40c2-e58e-7d64bd7ee4c2"
      },
      "outputs": [
        {
          "name": "stdout",
          "output_type": "stream",
          "text": [
            "hello world\n"
          ]
        }
      ],
      "source": [
        "print(\"hello world\")"
      ]
    },
    {
      "cell_type": "code",
      "execution_count": null,
      "id": "acting-carrier",
      "metadata": {
        "id": "acting-carrier"
      },
      "outputs": [],
      "source": [
        ""
      ]
    }
  ],
  "metadata": {
    "kernelspec": {
      "display_name": "Python 3",
      "language": "python",
      "name": "python3"
    },
    "language_info": {
      "codemirror_mode": {
        "name": "ipython",
        "version": 3
      },
      "file_extension": ".py",
      "mimetype": "text/x-python",
      "name": "python",
      "nbconvert_exporter": "python",
      "pygments_lexer": "ipython3",
      "version": "3.6.8"
    },
    "colab": {
      "name": "Colab-Task 1",
      "provenance": [],
      "include_colab_link": true
    }
  },
  "nbformat": 4,
  "nbformat_minor": 5
}